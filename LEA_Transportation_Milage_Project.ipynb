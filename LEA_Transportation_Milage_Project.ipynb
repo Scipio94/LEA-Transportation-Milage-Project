{
 "cells": [
  {
   "cell_type": "markdown",
   "id": "9f6f4a20",
   "metadata": {},
   "source": [
    "# LEA Student Milage \n",
    "\n",
    "## Objective\n",
    "The objective of this project is to use the [Google Maps API](https://github.com/googlemaps/google-maps-services-python) to return the walking distance from a student's home to the school they are attending.\n"
   ]
  },
  {
   "cell_type": "code",
   "execution_count": 1,
   "id": "063090c9",
   "metadata": {},
   "outputs": [],
   "source": [
    "# importing packages\n",
    "import googlemaps\n",
    "from dotenv import load_dotenv\n",
    "import os\n",
    "import pandas as pd\n",
    "import json"
   ]
  },
  {
   "cell_type": "code",
   "execution_count": 2,
   "id": "5f273129",
   "metadata": {},
   "outputs": [],
   "source": [
    "# importing data\n",
    "df = pd.read_excel('/Users/scipio/Documents/GOOGLE_MAPS_API/Bus Review 2526 - Sheet1.xlsx', parse_dates = ['DOB'])"
   ]
  },
  {
   "cell_type": "code",
   "execution_count": 3,
   "id": "2cfd28e7",
   "metadata": {},
   "outputs": [],
   "source": [
    "# extracting the API_KEY from an .env file\n",
    "env_file_path = '/Users/scipio/Documents/GOOGLE_MAPS_API/MAPS_API.env'\n",
    "load_dotenv(dotenv_path = env_file_path )\n",
    "API_KEY = os.getenv('API_KEY')\n",
    "\n",
    "# creating gmaps object\n",
    "gmaps = googlemaps.Client(key=API_KEY)"
   ]
  },
  {
   "cell_type": "code",
   "execution_count": 4,
   "id": "c2b9e8c3",
   "metadata": {},
   "outputs": [],
   "source": [
    "# joining text to create destination\n",
    "df['Destination'] = df['F1 Address']+','+df['F1 City State Zip']"
   ]
  },
  {
   "cell_type": "code",
   "execution_count": 5,
   "id": "b6ace2ff",
   "metadata": {},
   "outputs": [],
   "source": [
    "# creating empty list to append valuyes\n",
    "distance = []\n",
    "\n",
    "# for loop using zip to iterate through contents of both columns\n",
    "for origin, destination in zip(df['School Address'], df['Destination']):\n",
    "    \"\"\"\n",
    "    Error Handling - Errant values appended as None values in the list distance\n",
    "    \"\"\"\n",
    "    try:\n",
    "        distance.append(gmaps.directions(origin, destination,mode=\"walking\")[0]['legs'][0]['distance']['text'])\n",
    "    except:\n",
    "        distance.append(None)"
   ]
  },
  {
   "cell_type": "code",
   "execution_count": 9,
   "id": "28f57f2e",
   "metadata": {},
   "outputs": [],
   "source": [
    "# creating column based on the values in the list distance\n",
    "df['Distance'] = distance"
   ]
  },
  {
   "cell_type": "code",
   "execution_count": 15,
   "id": "861d4878",
   "metadata": {},
   "outputs": [],
   "source": [
    "# returning relevant columns\n",
    "df = df[['Student Last Name', 'Student First Name', 'School', 'School Address',\n",
    "       'Gr', 'SpecEd', 'DOB', 'Other ID', 'State Student Number', 'Transp',\n",
    "       'Code', 'Route', 'AM Bus Number', 'PM Bus Number', 'Stop Desc',\n",
    "       'Stop #', 'Stop Type', 'Bus Start Date', 'Bus End Date', 'Arrives',\n",
    "       'Miles','Distance', 'F1 Address', 'F1 Street #', 'F1 StDir', 'F1 Street Name',\n",
    "       'F1 SUD / #', 'F1 City State Zip']]"
   ]
  },
  {
   "cell_type": "code",
   "execution_count": 16,
   "id": "7303f480",
   "metadata": {},
   "outputs": [],
   "source": [
    "# exporting data\n",
    "df.to_csv('Busing_25-26.csv', index = False)"
   ]
  }
 ],
 "metadata": {
  "kernelspec": {
   "display_name": "Python 3 (ipykernel)",
   "language": "python",
   "name": "python3"
  },
  "language_info": {
   "codemirror_mode": {
    "name": "ipython",
    "version": 3
   },
   "file_extension": ".py",
   "mimetype": "text/x-python",
   "name": "python",
   "nbconvert_exporter": "python",
   "pygments_lexer": "ipython3",
   "version": "3.10.9"
  }
 },
 "nbformat": 4,
 "nbformat_minor": 5
}
